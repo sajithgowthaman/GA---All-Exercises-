{
 "cells": [
  {
   "cell_type": "markdown",
   "metadata": {},
   "source": [
    "# Consumer Sales Case Study\n",
    "\n",
    "## Data Background\n",
    "\n",
    "* This is a global food distribution company (canned goods, produce, meats, etc.)\n",
    "* The dataset covers about 2 years of sales and inventory data\n",
    "* It is distributed across multiple tables, and even in different languages!\n",
    "* This is an exercise very similar to what you'd be doing with relational databases with a larger enterprise company\n",
    "  * It is not too big, not too small\n",
    "* The dataset was originally used for [qlik](https://sense-demo.qlik.com/sense/app/372cbc85-f7fb-4db6-a620-9a5367845dce)\n",
    "* If you want, try clicking (pun intended) around in their web-based solution to familiarize yourself with the data\n",
    "\n",
    "## What Are We Looking For?\n",
    "\n",
    "Your boss, Joanna, has requested the following reports:\n",
    "\n",
    "  1. Top 10 Product Type by Gross Sales\n",
    "  1. Average Margin (%) by Product Group\n",
    "\n",
    "  1. Top 10 Sales Reps and their Total Sales and Sales Quantity\n",
    "  1. Average Margin vs Gross Sales\n",
    "  1. Total Sales by Month\n",
    "  1. Total Sales by Month, Year over Year\n",
    "\n",
    "## Data Dictionary\n",
    "\n",
    "A data dictionary has been provided for you below:\n",
    "\n",
    "<details id='dictionary'>\n",
    "    <summary>Data Dictionary</summary>\n",
    "    <br>\n",
    "    <!-- table created with https://www.tablesgenerator.com/html_tables please see ../assets/dictionary.tgn file -->\n",
    "    <table>\n",
    "  <tr>\n",
    "    <th>Table</th>\n",
    "    <th>Field</th>\n",
    "    <th>Description</th>\n",
    "    <th>PK</th>\n",
    "    <th>FK</th>\n",
    "  </tr>\n",
    "  <tr>\n",
    "    <td>Item master.xls</td>\n",
    "    <td>Item Number</td>\n",
    "    <td>Foreign key to Sales.Item Number field. Unique identifier for item</td>\n",
    "    <td>Y</td>\n",
    "    <td>N</td>\n",
    "  </tr>\n",
    "  <tr>\n",
    "    <td>Item master.xls</td>\n",
    "    <td>Product Group</td>\n",
    "    <td>Group for the product, i.e. Frozen Foods, Deli, etc</td>\n",
    "    <td>N</td>\n",
    "    <td>N</td>\n",
    "  </tr>\n",
    "  <tr>\n",
    "    <td>Item master.xls</td>\n",
    "    <td>Product Line</td>\n",
    "    <td>Product line, i.e. Food, Drink, etc</td>\n",
    "    <td>N</td>\n",
    "    <td>N</td>\n",
    "  </tr>\n",
    "  <tr>\n",
    "    <td>Item master.xls</td>\n",
    "    <td>Product Sub Group</td>\n",
    "    <td>Detail field for the Product Group field, i.e. Produce -&gt; Fresh Vegetables</td>\n",
    "    <td>N</td>\n",
    "    <td>N</td>\n",
    "  </tr>\n",
    "  <tr>\n",
    "    <td>Item master.xls</td>\n",
    "    <td>Product Type</td>\n",
    "    <td>Type of product and additional detail at the sub group level, i.e. 'Breakfast Foods'</td>\n",
    "    <td>N</td>\n",
    "    <td>N</td>\n",
    "  </tr>\n",
    "  <tr>\n",
    "    <td>Sales&nbsp;&nbsp;rep.csv</td>\n",
    "    <td>Manager</td>\n",
    "    <td>Name of manager</td>\n",
    "    <td>N</td>\n",
    "    <td>N</td>\n",
    "  </tr>  \n",
    "  <tr>\n",
    "    <td>Sales&nbsp;&nbsp;rep.csv</td>\n",
    "    <td>Manager Number</td>\n",
    "    <td>ID of manager</td>\n",
    "    <td>N</td>\n",
    "    <td>N</td>\n",
    "  </tr>\n",
    "  <tr>\n",
    "    <td>Sales&nbsp;&nbsp;rep.csv</td>\n",
    "    <td>Path</td>\n",
    "    <td>Order through which sales passes through reps, separated by hyphens. Correlates with Sales Rep ID key.</td>\n",
    "    <td>N</td>\n",
    "    <td>N</td>\n",
    "  </tr>\n",
    "  <tr>\n",
    "    <td>Sales&nbsp;&nbsp;rep.csv</td>\n",
    "    <td>Sales Rep Name</td>\n",
    "    <td>Primary sales rep name</td>\n",
    "    <td>N</td>\n",
    "    <td>N</td>\n",
    "  </tr>\n",
    "  <tr>\n",
    "    <td>Sales&nbsp;&nbsp;rep.csv</td>\n",
    "    <td>Sales Rep Name 1</td>\n",
    "    <td>Secondary sales rep name (nullable)</td>\n",
    "    <td>N</td>\n",
    "    <td>N</td>\n",
    "  </tr>\n",
    "  <tr>\n",
    "    <td>Sales&nbsp;&nbsp;rep.csv</td>\n",
    "    <td>Sales Rep Name 2</td>\n",
    "    <td>Tertiary sales rep name (nullable)</td>\n",
    "    <td>N</td>\n",
    "    <td>N</td>\n",
    "  </tr>\n",
    "  <tr>\n",
    "    <td>Sales&nbsp;&nbsp;rep.csv</td>\n",
    "    <td>Sales Rep Name 3</td>\n",
    "    <td>Quaterinary sales rep name (nullable)</td>\n",
    "    <td>N</td>\n",
    "    <td>N</td>\n",
    "  </tr>\n",
    "  <tr>\n",
    "    <td>Sales&nbsp;&nbsp;rep.csv</td>\n",
    "    <td>Sales Rep ID</td>\n",
    "    <td>Foreign key to Sales. UID for path.</td>\n",
    "    <td>N</td>\n",
    "    <td>Y</td>\n",
    "  </tr>\n",
    "  <tr>\n",
    "    <td>Customers.xlsx</td>\n",
    "    <td>Customer</td>\n",
    "    <td>Name of customer</td>\n",
    "    <td>N</td>\n",
    "    <td>N</td>\n",
    "  </tr>\n",
    "  <tr>\n",
    "    <td>Customers.xlsx</td>\n",
    "    <td>Customer Number</td>\n",
    "    <td>Unique identifier for customer name, keys to Sales.Customer Number</td>\n",
    "    <td>Y</td>\n",
    "    <td>Y</td>\n",
    "  </tr>\n",
    "  <tr>\n",
    "    <td>Customers.xlsx</td>\n",
    "    <td>City Code</td>\n",
    "    <td>City ID, foreign key for City.City Code</td>\n",
    "    <td>N</td>\n",
    "    <td>Y</td>\n",
    "  </tr>\n",
    "  <tr>\n",
    "    <td>Cities.xlsx</td>\n",
    "    <td>City</td>\n",
    "    <td>Name of city</td>\n",
    "    <td>N</td>\n",
    "    <td>N</td>\n",
    "  </tr>\n",
    "  <tr>\n",
    "    <td>Cities.xlsx</td>\n",
    "    <td>City Code</td>\n",
    "    <td>ID of city name</td>\n",
    "    <td>Y</td>\n",
    "    <td>Y</td>\n",
    "  </tr>\n",
    "  <tr>\n",
    "    <td>Cities.xlsx</td>\n",
    "    <td>Region</td>\n",
    "    <td>Sales region (i.e. USA, Nordic, etc)</td>\n",
    "    <td>N</td>\n",
    "    <td>N</td>\n",
    "  </tr>\n",
    "  <tr>\n",
    "    <td>Cities.xlsx</td>\n",
    "    <td>Latitude</td>\n",
    "    <td>Latitude of city</td>\n",
    "    <td>N</td>\n",
    "    <td>N</td>\n",
    "  </tr>\n",
    "  <tr>\n",
    "      <td>Cities.xlsx</td>\n",
    "    <td>Longitude</td>\n",
    "    <td>Longitude of city</td>\n",
    "    <td>N</td>\n",
    "    <td>N</td>\n",
    "  </tr>\n",
    "  <tr>\n",
    "    <td>Cities.xlsx</td>\n",
    "    <td>Desc</td>\n",
    "    <td>String description of city, including city, state (if applicable), and country</td>\n",
    "    <td>N</td>\n",
    "    <td>N</td>\n",
    "  </tr>\n",
    "  <tr>\n",
    "    <td>Sales.xlsx</td>\n",
    "    <td>%KEY</td>\n",
    "    <td>Primary key of table</td>\n",
    "    <td>Y</td>\n",
    "    <td>N</td>\n",
    "  </tr>\n",
    "  <tr>\n",
    "    <td>Sales.xlsx</td>\n",
    "    <td>Cost</td>\n",
    "    <td>Total cost of sale for transaction [USD]</td>\n",
    "    <td>N</td>\n",
    "    <td>N</td>\n",
    "  </tr>\n",
    "  <tr>\n",
    "    <td>Sales.xlsx</td>\n",
    "    <td>Customer Number</td>\n",
    "    <td>Customer number, keys to Customer.Customer Number</td>\n",
    "    <td>N</td>\n",
    "    <td>Y</td>\n",
    "  </tr>\n",
    "  <tr>\n",
    "    <td>Sales.xlsx</td>\n",
    "    <td>Date</td>\n",
    "    <td>Date of sale</td>\n",
    "    <td>N</td>\n",
    "    <td>N</td>\n",
    "  </tr>\n",
    "  <tr>\n",
    "    <td>Sales.xlsx</td>\n",
    "    <td>GrossSales</td>\n",
    "    <td>Gross sale for invoice [USD]</td>\n",
    "    <td>N</td>\n",
    "    <td>N</td>\n",
    "  </tr>\n",
    "  <tr>\n",
    "    <td>Sales.xlsx</td>\n",
    "    <td>Invoice Date</td>\n",
    "    <td>Date of invoice</td>\n",
    "    <td>N</td>\n",
    "    <td>N</td>\n",
    "  </tr>\n",
    "  <tr>\n",
    "    <td>Sales.xlsx</td>\n",
    "    <td>Item Desc</td>\n",
    "    <td>Description of invoiced item</td>\n",
    "    <td>N</td>\n",
    "    <td>N</td>\n",
    "  </tr>\n",
    "  <tr>\n",
    "    <td>Sales.xlsx</td>\n",
    "    <td>Item Number</td>\n",
    "    <td>ID of invoiced item (product) - not a primary key. Keys to Item.Item Number</td>\n",
    "    <td>N</td>\n",
    "    <td>Y</td>\n",
    "  </tr>\n",
    "  <tr>\n",
    "    <td>Sales.xlsx</td>\n",
    "    <td>Margin</td>\n",
    "    <td>Percent gross margin of line item sale</td>\n",
    "    <td>N</td>\n",
    "    <td>N</td>\n",
    "  </tr>\n",
    "  <tr>\n",
    "    <td>Sales.xlsx</td>\n",
    "    <td>Order Number</td>\n",
    "    <td>ID of the order placed</td>\n",
    "    <td>N</td>\n",
    "    <td>N</td>\n",
    "  </tr>\n",
    "  <tr>\n",
    "    <td>Sales.xlsx</td>\n",
    "    <td>Promised Delivery Date</td>\n",
    "    <td>Agreed date of delivery</td>\n",
    "    <td>N</td>\n",
    "    <td>N</td>\n",
    "  </tr>\n",
    "  <tr>\n",
    "    <td>Sales.xlsx</td>\n",
    "    <td>Sales</td>\n",
    "    <td>Gross sale for invoice [USD], less cost of sale</td>\n",
    "    <td>N</td>\n",
    "    <td>N</td>\n",
    "  </tr>\n",
    "  <tr>\n",
    "    <td>Sales.xlsx</td>\n",
    "    <td>Sales Qty</td>\n",
    "    <td>Qty of invoiced item sold (see Item Number, Item Desc)</td>\n",
    "    <td>N</td>\n",
    "    <td>N</td>\n",
    "  </tr>\n",
    "  <tr>\n",
    "    <td>Sales.xlsx</td>\n",
    "    <td>Sales Rep Number</td>\n",
    "    <td>Sales rep ID credited with sale</td>\n",
    "    <td>N</td>\n",
    "    <td>Y</td>\n",
    "  </tr>\n",
    "</table>\n",
    "</details>"
   ]
  },
  {
   "cell_type": "markdown",
   "metadata": {},
   "source": [
    "# EDA\n",
    "\n",
    "Before we create our charts/reports for Joanna, we'll need to sanity check our input data. We'll get to the analysis  and visualization and reporting later.\n",
    "\n",
    "## Import Libraries\n",
    "\n",
    "Import any libraries you need here."
   ]
  },
  {
   "cell_type": "code",
   "execution_count": 1,
   "metadata": {},
   "outputs": [],
   "source": [
    "import pandas as pd\n",
    "import matplotlib.pyplot as plt"
   ]
  },
  {
   "cell_type": "markdown",
   "metadata": {},
   "source": [
    "## Import Data\n",
    "\n",
    "Read in the data in the `data` directory.\n",
    "\n",
    "Check the raw files to make sure you understand quote characters, delimiters, and encoding. You will need to use the `encoding` kwarg here since we are dealing with international character sets ([docs](https://pandas.pydata.org/pandas-docs/stable/reference/api/pandas.read_csv.html)).\n",
    "\n",
    "A handy command (on Mac/Linux) is `file`, which tries to guess the encoding of a file. (On Windows, you might need a tool like [EncodingChecker](https://archive.codeplex.com/?p=encodingchecker).)\n",
    "\n",
    "`!` is used to run a *shell command*."
   ]
  },
  {
   "cell_type": "code",
   "execution_count": 3,
   "metadata": {},
   "outputs": [
    {
     "name": "stdout",
     "output_type": "stream",
     "text": [
      "cities.csv      customers.csv   item_master.csv sales.csv       sales_rep.csv\r\n"
     ]
    }
   ],
   "source": [
    "!ls data"
   ]
  },
  {
   "cell_type": "code",
   "execution_count": 6,
   "metadata": {},
   "outputs": [
    {
     "name": "stdout",
     "output_type": "stream",
     "text": [
      "data/cities.csv:      UTF-8 Unicode text\n",
      "data/customers.csv:   UTF-8 Unicode text\n",
      "data/item_master.csv: ASCII text\n",
      "data/sales.csv:       ASCII text\n",
      "data/sales_rep.csv:   ASCII text\n"
     ]
    }
   ],
   "source": [
    "!file data/*.csv"
   ]
  },
  {
   "cell_type": "markdown",
   "metadata": {},
   "source": [
    "Files that are encoded as `ASCII text` contains just plain English characters, so nothing is needed other than a plain `read_csv`. Let's read those in first."
   ]
  },
  {
   "cell_type": "code",
   "execution_count": 7,
   "metadata": {},
   "outputs": [],
   "source": [
    "sales       = pd.read_csv('data/sales.csv')\n",
    "item_master = pd.read_csv('data/item_master.csv')\n",
    "sales_rep   = pd.read_csv('data/sales_rep.csv')"
   ]
  },
  {
   "cell_type": "markdown",
   "metadata": {},
   "source": [
    "`UTF-8 Unicode text` means there could possibly be some non-English characters there. \n",
    "\n",
    "[Encodings are tricky](https://www.joelonsoftware.com/2003/10/08/the-absolute-minimum-every-software-developer-absolutely-positively-must-know-about-unicode-and-character-sets-no-excuses/) and out of the scope of this course, but here are the list of [Python Standard Encodings](https://docs.python.org/3/library/codecs.html#standard-encodings). \n",
    "\n",
    "It turns out that UTF-8 is a fairly modern standard and Python is able to read `utf-8` with the `encoding='utf-8'` kwarg.\n",
    "\n",
    "Depending on how the file was exported and if it was with an order type of encoding you could have more trouble than this!"
   ]
  },
  {
   "cell_type": "code",
   "execution_count": 8,
   "metadata": {},
   "outputs": [],
   "source": [
    "cities = pd.read_csv('data/cities.csv', encoding='utf-8')\n",
    "customers = pd.read_csv('data/customers.csv', encoding='utf-8')"
   ]
  },
  {
   "cell_type": "markdown",
   "metadata": {},
   "source": [
    "And just to make sure it imported properly, let's see if a certain Swedish city of [Malmö](https://en.wikipedia.org/wiki/Malmö) prints correctly:"
   ]
  },
  {
   "cell_type": "code",
   "execution_count": 12,
   "metadata": {
    "scrolled": false
   },
   "outputs": [
    {
     "name": "stdout",
     "output_type": "stream",
     "text": [
      "\"Malmö, Malmö, Skåne län, SE\"\n"
     ]
    }
   ],
   "source": [
    "print(cities.iloc[63]['Desc'])"
   ]
  },
  {
   "cell_type": "markdown",
   "metadata": {},
   "source": [
    "Awesome.\n",
    "\n",
    "Now let's take a quick look at the data inside each of these dataframes:"
   ]
  },
  {
   "cell_type": "code",
   "execution_count": 14,
   "metadata": {},
   "outputs": [
    {
     "name": "stdout",
     "output_type": "stream",
     "text": [
      "(96466, 15)\n",
      "(827, 5)\n",
      "(64, 8)\n",
      "(100, 6)\n",
      "(684, 3)\n"
     ]
    }
   ],
   "source": [
    "print(sales.shape,\n",
    "      item_master.shape,\n",
    "      sales_rep.shape,\n",
    "      cities.shape,\n",
    "      customers.shape,\n",
    "      sep='\\n')"
   ]
  },
  {
   "cell_type": "code",
   "execution_count": 15,
   "metadata": {},
   "outputs": [
    {
     "data": {
      "text/html": [
       "<div>\n",
       "<style scoped>\n",
       "    .dataframe tbody tr th:only-of-type {\n",
       "        vertical-align: middle;\n",
       "    }\n",
       "\n",
       "    .dataframe tbody tr th {\n",
       "        vertical-align: top;\n",
       "    }\n",
       "\n",
       "    .dataframe thead th {\n",
       "        text-align: right;\n",
       "    }\n",
       "</style>\n",
       "<table border=\"1\" class=\"dataframe\">\n",
       "  <thead>\n",
       "    <tr style=\"text-align: right;\">\n",
       "      <th></th>\n",
       "      <th>%KEY</th>\n",
       "      <th>Cost</th>\n",
       "      <th>Customer Number</th>\n",
       "      <th>Date</th>\n",
       "      <th>GrossSales</th>\n",
       "      <th>Invoice Date</th>\n",
       "      <th>Invoice Number</th>\n",
       "      <th>Item Desc</th>\n",
       "      <th>Item Number</th>\n",
       "      <th>Margin</th>\n",
       "      <th>Order Number</th>\n",
       "      <th>Promised Delivery Date</th>\n",
       "      <th>Sales</th>\n",
       "      <th>Sales Qty</th>\n",
       "      <th>Sales Rep Number</th>\n",
       "    </tr>\n",
       "  </thead>\n",
       "  <tbody>\n",
       "    <tr>\n",
       "      <th>0</th>\n",
       "      <td>3428</td>\n",
       "      <td>-513.15</td>\n",
       "      <td>10012226</td>\n",
       "      <td>1/12/2012</td>\n",
       "      <td>-573.3835</td>\n",
       "      <td>1/12/2012</td>\n",
       "      <td>318960</td>\n",
       "      <td>Cutting Edge Sliced Ham</td>\n",
       "      <td>10696</td>\n",
       "      <td>-37.29</td>\n",
       "      <td>115785</td>\n",
       "      <td>1/12/2012</td>\n",
       "      <td>-550.44</td>\n",
       "      <td>-1.0</td>\n",
       "      <td>180</td>\n",
       "    </tr>\n",
       "    <tr>\n",
       "      <th>1</th>\n",
       "      <td>3429</td>\n",
       "      <td>-105.93</td>\n",
       "      <td>10012226</td>\n",
       "      <td>1/12/2012</td>\n",
       "      <td>-204.6638</td>\n",
       "      <td>1/12/2012</td>\n",
       "      <td>318960</td>\n",
       "      <td>Washington Cranberry Juice</td>\n",
       "      <td>10009</td>\n",
       "      <td>-90.54</td>\n",
       "      <td>115785</td>\n",
       "      <td>1/12/2012</td>\n",
       "      <td>-196.47</td>\n",
       "      <td>-2.0</td>\n",
       "      <td>180</td>\n",
       "    </tr>\n",
       "    <tr>\n",
       "      <th>2</th>\n",
       "      <td>3430</td>\n",
       "      <td>-88.07</td>\n",
       "      <td>10012226</td>\n",
       "      <td>1/12/2012</td>\n",
       "      <td>-165.8016</td>\n",
       "      <td>1/12/2012</td>\n",
       "      <td>318960</td>\n",
       "      <td>Moms Sliced Ham</td>\n",
       "      <td>10385</td>\n",
       "      <td>-71.10</td>\n",
       "      <td>115785</td>\n",
       "      <td>1/12/2012</td>\n",
       "      <td>-159.17</td>\n",
       "      <td>-3.0</td>\n",
       "      <td>180</td>\n",
       "    </tr>\n",
       "    <tr>\n",
       "      <th>3</th>\n",
       "      <td>3431</td>\n",
       "      <td>-43.12</td>\n",
       "      <td>10012226</td>\n",
       "      <td>1/12/2012</td>\n",
       "      <td>-118.3703</td>\n",
       "      <td>1/12/2012</td>\n",
       "      <td>318960</td>\n",
       "      <td>Tip Top Lox</td>\n",
       "      <td>10215</td>\n",
       "      <td>-70.52</td>\n",
       "      <td>115785</td>\n",
       "      <td>1/12/2012</td>\n",
       "      <td>-113.64</td>\n",
       "      <td>-1.0</td>\n",
       "      <td>180</td>\n",
       "    </tr>\n",
       "    <tr>\n",
       "      <th>4</th>\n",
       "      <td>3432</td>\n",
       "      <td>-37.98</td>\n",
       "      <td>10012226</td>\n",
       "      <td>1/12/2012</td>\n",
       "      <td>-102.3319</td>\n",
       "      <td>1/12/2012</td>\n",
       "      <td>318960</td>\n",
       "      <td>Just Right Beef Soup</td>\n",
       "      <td>10965</td>\n",
       "      <td>-60.26</td>\n",
       "      <td>115785</td>\n",
       "      <td>1/12/2012</td>\n",
       "      <td>-98.24</td>\n",
       "      <td>-1.0</td>\n",
       "      <td>180</td>\n",
       "    </tr>\n",
       "  </tbody>\n",
       "</table>\n",
       "</div>"
      ],
      "text/plain": [
       "   %KEY    Cost  Customer Number       Date  GrossSales Invoice Date  \\\n",
       "0  3428 -513.15         10012226  1/12/2012   -573.3835    1/12/2012   \n",
       "1  3429 -105.93         10012226  1/12/2012   -204.6638    1/12/2012   \n",
       "2  3430  -88.07         10012226  1/12/2012   -165.8016    1/12/2012   \n",
       "3  3431  -43.12         10012226  1/12/2012   -118.3703    1/12/2012   \n",
       "4  3432  -37.98         10012226  1/12/2012   -102.3319    1/12/2012   \n",
       "\n",
       "   Invoice Number                   Item Desc  Item Number  Margin  \\\n",
       "0          318960     Cutting Edge Sliced Ham        10696  -37.29   \n",
       "1          318960  Washington Cranberry Juice        10009  -90.54   \n",
       "2          318960             Moms Sliced Ham        10385  -71.10   \n",
       "3          318960                 Tip Top Lox        10215  -70.52   \n",
       "4          318960        Just Right Beef Soup        10965  -60.26   \n",
       "\n",
       "   Order Number Promised Delivery Date   Sales  Sales Qty  Sales Rep Number  \n",
       "0        115785              1/12/2012 -550.44       -1.0               180  \n",
       "1        115785              1/12/2012 -196.47       -2.0               180  \n",
       "2        115785              1/12/2012 -159.17       -3.0               180  \n",
       "3        115785              1/12/2012 -113.64       -1.0               180  \n",
       "4        115785              1/12/2012  -98.24       -1.0               180  "
      ]
     },
     "execution_count": 15,
     "metadata": {},
     "output_type": "execute_result"
    }
   ],
   "source": [
    "sales.head(5)"
   ]
  },
  {
   "cell_type": "code",
   "execution_count": 16,
   "metadata": {},
   "outputs": [
    {
     "data": {
      "text/html": [
       "<div>\n",
       "<style scoped>\n",
       "    .dataframe tbody tr th:only-of-type {\n",
       "        vertical-align: middle;\n",
       "    }\n",
       "\n",
       "    .dataframe tbody tr th {\n",
       "        vertical-align: top;\n",
       "    }\n",
       "\n",
       "    .dataframe thead th {\n",
       "        text-align: right;\n",
       "    }\n",
       "</style>\n",
       "<table border=\"1\" class=\"dataframe\">\n",
       "  <thead>\n",
       "    <tr style=\"text-align: right;\">\n",
       "      <th></th>\n",
       "      <th>Item Number</th>\n",
       "      <th>Product Group</th>\n",
       "      <th>Product Line</th>\n",
       "      <th>Product Sub Group</th>\n",
       "      <th>Product Type</th>\n",
       "    </tr>\n",
       "  </thead>\n",
       "  <tbody>\n",
       "    <tr>\n",
       "      <th>0</th>\n",
       "      <td>10001</td>\n",
       "      <td>Beverages</td>\n",
       "      <td>Drink</td>\n",
       "      <td>Juice</td>\n",
       "      <td>Pure Juice Beverages</td>\n",
       "    </tr>\n",
       "    <tr>\n",
       "      <th>1</th>\n",
       "      <td>10002</td>\n",
       "      <td>Beverages</td>\n",
       "      <td>Drink</td>\n",
       "      <td>Flavored Drinks</td>\n",
       "      <td>Drinks</td>\n",
       "    </tr>\n",
       "    <tr>\n",
       "      <th>2</th>\n",
       "      <td>10003</td>\n",
       "      <td>Beverages</td>\n",
       "      <td>Drink</td>\n",
       "      <td>Flavored Drinks</td>\n",
       "      <td>Drinks</td>\n",
       "    </tr>\n",
       "    <tr>\n",
       "      <th>3</th>\n",
       "      <td>10004</td>\n",
       "      <td>Beverages</td>\n",
       "      <td>Drink</td>\n",
       "      <td>Soda</td>\n",
       "      <td>Carbonated Beverages</td>\n",
       "    </tr>\n",
       "    <tr>\n",
       "      <th>4</th>\n",
       "      <td>10005</td>\n",
       "      <td>Beverages</td>\n",
       "      <td>Drink</td>\n",
       "      <td>Soda</td>\n",
       "      <td>Carbonated Beverages</td>\n",
       "    </tr>\n",
       "  </tbody>\n",
       "</table>\n",
       "</div>"
      ],
      "text/plain": [
       "   Item Number Product Group Product Line Product Sub Group  \\\n",
       "0        10001     Beverages        Drink             Juice   \n",
       "1        10002     Beverages        Drink   Flavored Drinks   \n",
       "2        10003     Beverages        Drink   Flavored Drinks   \n",
       "3        10004     Beverages        Drink              Soda   \n",
       "4        10005     Beverages        Drink              Soda   \n",
       "\n",
       "           Product Type  \n",
       "0  Pure Juice Beverages  \n",
       "1                Drinks  \n",
       "2                Drinks  \n",
       "3  Carbonated Beverages  \n",
       "4  Carbonated Beverages  "
      ]
     },
     "execution_count": 16,
     "metadata": {},
     "output_type": "execute_result"
    }
   ],
   "source": [
    "item_master.head(5)"
   ]
  },
  {
   "cell_type": "code",
   "execution_count": 21,
   "metadata": {},
   "outputs": [
    {
     "data": {
      "text/html": [
       "<div>\n",
       "<style scoped>\n",
       "    .dataframe tbody tr th:only-of-type {\n",
       "        vertical-align: middle;\n",
       "    }\n",
       "\n",
       "    .dataframe tbody tr th {\n",
       "        vertical-align: top;\n",
       "    }\n",
       "\n",
       "    .dataframe thead th {\n",
       "        text-align: right;\n",
       "    }\n",
       "</style>\n",
       "<table border=\"1\" class=\"dataframe\">\n",
       "  <thead>\n",
       "    <tr style=\"text-align: right;\">\n",
       "      <th></th>\n",
       "      <th>Manager</th>\n",
       "      <th>Manager Number</th>\n",
       "      <th>Path</th>\n",
       "      <th>Sales Rep Name</th>\n",
       "      <th>Sales Rep Name1</th>\n",
       "      <th>Sales Rep Name2</th>\n",
       "      <th>Sales Rep Name3</th>\n",
       "      <th>Sales Rep ID</th>\n",
       "    </tr>\n",
       "  </thead>\n",
       "  <tbody>\n",
       "    <tr>\n",
       "      <th>0</th>\n",
       "      <td>Amanda Honda</td>\n",
       "      <td>104</td>\n",
       "      <td>Amanda Honda-Amalia Craig</td>\n",
       "      <td>Amalia Craig</td>\n",
       "      <td>Amanda Honda</td>\n",
       "      <td>Amalia Craig</td>\n",
       "      <td>NaN</td>\n",
       "      <td>103</td>\n",
       "    </tr>\n",
       "    <tr>\n",
       "      <th>1</th>\n",
       "      <td>Amanda Honda</td>\n",
       "      <td>104</td>\n",
       "      <td>Amanda Honda-Cart Lynch</td>\n",
       "      <td>Cart Lynch</td>\n",
       "      <td>Amanda Honda</td>\n",
       "      <td>Cart Lynch</td>\n",
       "      <td>NaN</td>\n",
       "      <td>112</td>\n",
       "    </tr>\n",
       "    <tr>\n",
       "      <th>2</th>\n",
       "      <td>Amanda Honda</td>\n",
       "      <td>104</td>\n",
       "      <td>Amanda Honda-Molly McKenzie</td>\n",
       "      <td>Molly McKenzie</td>\n",
       "      <td>Amanda Honda</td>\n",
       "      <td>Molly McKenzie</td>\n",
       "      <td>NaN</td>\n",
       "      <td>159</td>\n",
       "    </tr>\n",
       "    <tr>\n",
       "      <th>3</th>\n",
       "      <td>Amanda Honda</td>\n",
       "      <td>104</td>\n",
       "      <td>Amanda Honda-Sheila Hein</td>\n",
       "      <td>Sheila Hein</td>\n",
       "      <td>Amanda Honda</td>\n",
       "      <td>Sheila Hein</td>\n",
       "      <td>NaN</td>\n",
       "      <td>176</td>\n",
       "    </tr>\n",
       "    <tr>\n",
       "      <th>4</th>\n",
       "      <td>Brenda Gibson</td>\n",
       "      <td>109</td>\n",
       "      <td>Brenda Gibson-Dennis Johnson</td>\n",
       "      <td>Dennis Johnson</td>\n",
       "      <td>Brenda Gibson</td>\n",
       "      <td>Dennis Johnson</td>\n",
       "      <td>NaN</td>\n",
       "      <td>121</td>\n",
       "    </tr>\n",
       "  </tbody>\n",
       "</table>\n",
       "</div>"
      ],
      "text/plain": [
       "         Manager  Manager Number                          Path  \\\n",
       "0   Amanda Honda             104     Amanda Honda-Amalia Craig   \n",
       "1   Amanda Honda             104       Amanda Honda-Cart Lynch   \n",
       "2   Amanda Honda             104   Amanda Honda-Molly McKenzie   \n",
       "3   Amanda Honda             104      Amanda Honda-Sheila Hein   \n",
       "4  Brenda Gibson             109  Brenda Gibson-Dennis Johnson   \n",
       "\n",
       "   Sales Rep Name Sales Rep Name1 Sales Rep Name2 Sales Rep Name3  \\\n",
       "0    Amalia Craig    Amanda Honda    Amalia Craig             NaN   \n",
       "1      Cart Lynch    Amanda Honda      Cart Lynch             NaN   \n",
       "2  Molly McKenzie    Amanda Honda  Molly McKenzie             NaN   \n",
       "3     Sheila Hein    Amanda Honda     Sheila Hein             NaN   \n",
       "4  Dennis Johnson   Brenda Gibson  Dennis Johnson             NaN   \n",
       "\n",
       "   Sales Rep ID  \n",
       "0           103  \n",
       "1           112  \n",
       "2           159  \n",
       "3           176  \n",
       "4           121  "
      ]
     },
     "execution_count": 21,
     "metadata": {},
     "output_type": "execute_result"
    }
   ],
   "source": [
    "sales_rep.head(5)"
   ]
  },
  {
   "cell_type": "code",
   "execution_count": 22,
   "metadata": {},
   "outputs": [
    {
     "data": {
      "text/html": [
       "<div>\n",
       "<style scoped>\n",
       "    .dataframe tbody tr th:only-of-type {\n",
       "        vertical-align: middle;\n",
       "    }\n",
       "\n",
       "    .dataframe tbody tr th {\n",
       "        vertical-align: top;\n",
       "    }\n",
       "\n",
       "    .dataframe thead th {\n",
       "        text-align: right;\n",
       "    }\n",
       "</style>\n",
       "<table border=\"1\" class=\"dataframe\">\n",
       "  <thead>\n",
       "    <tr style=\"text-align: right;\">\n",
       "      <th></th>\n",
       "      <th>City</th>\n",
       "      <th>City Code</th>\n",
       "      <th>Region</th>\n",
       "      <th>Latitude</th>\n",
       "      <th>Longitude</th>\n",
       "      <th>Desc</th>\n",
       "    </tr>\n",
       "  </thead>\n",
       "  <tbody>\n",
       "    <tr>\n",
       "      <th>0</th>\n",
       "      <td>New York</td>\n",
       "      <td>1</td>\n",
       "      <td>USA</td>\n",
       "      <td>40.730599</td>\n",
       "      <td>-73.986581</td>\n",
       "      <td>\"New York City, NY, US\"</td>\n",
       "    </tr>\n",
       "    <tr>\n",
       "      <th>1</th>\n",
       "      <td>Los Angeles</td>\n",
       "      <td>2</td>\n",
       "      <td>USA</td>\n",
       "      <td>34.053678</td>\n",
       "      <td>-118.242702</td>\n",
       "      <td>\"Los Angeles, Los Angeles County, CA, US\"</td>\n",
       "    </tr>\n",
       "    <tr>\n",
       "      <th>2</th>\n",
       "      <td>Chicago</td>\n",
       "      <td>3</td>\n",
       "      <td>USA</td>\n",
       "      <td>41.875555</td>\n",
       "      <td>-87.624421</td>\n",
       "      <td>\"Chicago, Cook County, IL, US\"</td>\n",
       "    </tr>\n",
       "    <tr>\n",
       "      <th>3</th>\n",
       "      <td>Houston</td>\n",
       "      <td>4</td>\n",
       "      <td>USA</td>\n",
       "      <td>29.981501</td>\n",
       "      <td>-95.538360</td>\n",
       "      <td>\"Houston, Harris County, TX, US\"</td>\n",
       "    </tr>\n",
       "    <tr>\n",
       "      <th>4</th>\n",
       "      <td>Philadelphia</td>\n",
       "      <td>5</td>\n",
       "      <td>USA</td>\n",
       "      <td>39.952335</td>\n",
       "      <td>-75.163789</td>\n",
       "      <td>\"Philadelphia, Philadelphia County, PA, US\"</td>\n",
       "    </tr>\n",
       "  </tbody>\n",
       "</table>\n",
       "</div>"
      ],
      "text/plain": [
       "           City  City Code Region   Latitude   Longitude  \\\n",
       "0      New York          1    USA  40.730599  -73.986581   \n",
       "1   Los Angeles          2    USA  34.053678 -118.242702   \n",
       "2       Chicago          3    USA  41.875555  -87.624421   \n",
       "3       Houston          4    USA  29.981501  -95.538360   \n",
       "4  Philadelphia          5    USA  39.952335  -75.163789   \n",
       "\n",
       "                                          Desc  \n",
       "0                      \"New York City, NY, US\"  \n",
       "1    \"Los Angeles, Los Angeles County, CA, US\"  \n",
       "2               \"Chicago, Cook County, IL, US\"  \n",
       "3             \"Houston, Harris County, TX, US\"  \n",
       "4  \"Philadelphia, Philadelphia County, PA, US\"  "
      ]
     },
     "execution_count": 22,
     "metadata": {},
     "output_type": "execute_result"
    }
   ],
   "source": [
    "cities.head(5)"
   ]
  },
  {
   "cell_type": "code",
   "execution_count": 23,
   "metadata": {},
   "outputs": [
    {
     "data": {
      "text/html": [
       "<div>\n",
       "<style scoped>\n",
       "    .dataframe tbody tr th:only-of-type {\n",
       "        vertical-align: middle;\n",
       "    }\n",
       "\n",
       "    .dataframe tbody tr th {\n",
       "        vertical-align: top;\n",
       "    }\n",
       "\n",
       "    .dataframe thead th {\n",
       "        text-align: right;\n",
       "    }\n",
       "</style>\n",
       "<table border=\"1\" class=\"dataframe\">\n",
       "  <thead>\n",
       "    <tr style=\"text-align: right;\">\n",
       "      <th></th>\n",
       "      <th>Customer</th>\n",
       "      <th>Customer Number</th>\n",
       "      <th>City Code</th>\n",
       "    </tr>\n",
       "  </thead>\n",
       "  <tbody>\n",
       "    <tr>\n",
       "      <th>0</th>\n",
       "      <td>A Superior System</td>\n",
       "      <td>10000453</td>\n",
       "      <td>1</td>\n",
       "    </tr>\n",
       "    <tr>\n",
       "      <th>1</th>\n",
       "      <td>A&amp;B</td>\n",
       "      <td>10000456</td>\n",
       "      <td>76</td>\n",
       "    </tr>\n",
       "    <tr>\n",
       "      <th>2</th>\n",
       "      <td>A&amp;G</td>\n",
       "      <td>10000457</td>\n",
       "      <td>2</td>\n",
       "    </tr>\n",
       "    <tr>\n",
       "      <th>3</th>\n",
       "      <td>A&amp;R Partners</td>\n",
       "      <td>10000458</td>\n",
       "      <td>43</td>\n",
       "    </tr>\n",
       "    <tr>\n",
       "      <th>4</th>\n",
       "      <td>A1 Datacom Supply</td>\n",
       "      <td>10000461</td>\n",
       "      <td>77</td>\n",
       "    </tr>\n",
       "  </tbody>\n",
       "</table>\n",
       "</div>"
      ],
      "text/plain": [
       "            Customer  Customer Number  City Code\n",
       "0  A Superior System         10000453          1\n",
       "1                A&B         10000456         76\n",
       "2                A&G         10000457          2\n",
       "3       A&R Partners         10000458         43\n",
       "4  A1 Datacom Supply         10000461         77"
      ]
     },
     "execution_count": 23,
     "metadata": {},
     "output_type": "execute_result"
    }
   ],
   "source": [
    "customers.head(5)"
   ]
  },
  {
   "cell_type": "markdown",
   "metadata": {},
   "source": [
    "## Duplicated Primary Keys\n",
    "\n",
    "Each table should have a unique **Primary Key**. Let's do a sanity check to make sure they are indeed unique."
   ]
  },
  {
   "cell_type": "code",
   "execution_count": 32,
   "metadata": {},
   "outputs": [
    {
     "name": "stdout",
     "output_type": "stream",
     "text": [
      "2047     1\n",
      "47874    1\n",
      "90873    1\n",
      "Name: %KEY, dtype: int64\n",
      "\n",
      "10239    1\n",
      "10571    1\n",
      "10581    1\n",
      "Name: Item Number, dtype: int64\n",
      "\n",
      "127    1\n",
      "125    1\n",
      "168    1\n",
      "Name: Sales Rep ID, dtype: int64\n",
      "\n",
      "100    1\n",
      "37     1\n",
      "27     1\n",
      "Name: City Code, dtype: int64\n",
      "\n",
      "10021911    2\n",
      "10024034    1\n",
      "10006846    1\n",
      "Name: Customer Number, dtype: int64\n"
     ]
    }
   ],
   "source": [
    "print(sales['%KEY'].value_counts(dropna=False).head(3),\n",
    "      item_master['Item Number'].value_counts(dropna=False).head(3),\n",
    "      sales_rep['Sales Rep ID'].value_counts(dropna=False).head(3),\n",
    "      cities['City Code'].value_counts(dropna=False).head(3),\n",
    "      customers['Customer Number'].value_counts(dropna=False).head(3),\n",
    "      sep = '\\n\\n')\n"
   ]
  },
  {
   "cell_type": "markdown",
   "metadata": {},
   "source": [
    "Oops! It turns out that customer number `10021911` is actually duplicated in the `customers` source data table. This could be due to a misconfigured database that allowed a duplicate primary key to sneak into the database... it happens!"
   ]
  },
  {
   "cell_type": "code",
   "execution_count": 33,
   "metadata": {},
   "outputs": [
    {
     "data": {
      "text/html": [
       "<div>\n",
       "<style scoped>\n",
       "    .dataframe tbody tr th:only-of-type {\n",
       "        vertical-align: middle;\n",
       "    }\n",
       "\n",
       "    .dataframe tbody tr th {\n",
       "        vertical-align: top;\n",
       "    }\n",
       "\n",
       "    .dataframe thead th {\n",
       "        text-align: right;\n",
       "    }\n",
       "</style>\n",
       "<table border=\"1\" class=\"dataframe\">\n",
       "  <thead>\n",
       "    <tr style=\"text-align: right;\">\n",
       "      <th></th>\n",
       "      <th>Customer</th>\n",
       "      <th>Customer Number</th>\n",
       "      <th>City Code</th>\n",
       "    </tr>\n",
       "  </thead>\n",
       "  <tbody>\n",
       "    <tr>\n",
       "      <th>467</th>\n",
       "      <td>PING</td>\n",
       "      <td>10021911</td>\n",
       "      <td>64</td>\n",
       "    </tr>\n",
       "    <tr>\n",
       "      <th>468</th>\n",
       "      <td>Ping</td>\n",
       "      <td>10021911</td>\n",
       "      <td>65</td>\n",
       "    </tr>\n",
       "  </tbody>\n",
       "</table>\n",
       "</div>"
      ],
      "text/plain": [
       "    Customer  Customer Number  City Code\n",
       "467     PING         10021911         64\n",
       "468     Ping         10021911         65"
      ]
     },
     "execution_count": 33,
     "metadata": {},
     "output_type": "execute_result"
    }
   ],
   "source": [
    "customers[ customers['Customer Number'] == 10021911 ]"
   ]
  },
  {
   "cell_type": "markdown",
   "metadata": {},
   "source": [
    "The difference appears to be in the customer's name being capitalized or not, and a different city code. Unfortunately in the absence of further information it is difficult here to determine why the duplicate Customer Number has happened. \n",
    "\n",
    "A duplicate Customer Number will throw a wrench in our joins later when we stitch tables up. So, the easiest thing to do here is to note the discrepancy, and delete the extra customer, or assign its customer number to a value that doesn't exist.\n",
    "\n",
    "In this case, the next customer number in the sequence, `10021912`, doesn't exist. So we'll set `Ping` to that number. "
   ]
  },
  {
   "cell_type": "code",
   "execution_count": 34,
   "metadata": {},
   "outputs": [
    {
     "data": {
      "text/html": [
       "<div>\n",
       "<style scoped>\n",
       "    .dataframe tbody tr th:only-of-type {\n",
       "        vertical-align: middle;\n",
       "    }\n",
       "\n",
       "    .dataframe tbody tr th {\n",
       "        vertical-align: top;\n",
       "    }\n",
       "\n",
       "    .dataframe thead th {\n",
       "        text-align: right;\n",
       "    }\n",
       "</style>\n",
       "<table border=\"1\" class=\"dataframe\">\n",
       "  <thead>\n",
       "    <tr style=\"text-align: right;\">\n",
       "      <th></th>\n",
       "      <th>Customer</th>\n",
       "      <th>Customer Number</th>\n",
       "      <th>City Code</th>\n",
       "    </tr>\n",
       "  </thead>\n",
       "  <tbody>\n",
       "  </tbody>\n",
       "</table>\n",
       "</div>"
      ],
      "text/plain": [
       "Empty DataFrame\n",
       "Columns: [Customer, Customer Number, City Code]\n",
       "Index: []"
      ]
     },
     "execution_count": 34,
     "metadata": {},
     "output_type": "execute_result"
    }
   ],
   "source": [
    "customers[ customers['Customer Number'] == 10021912 ]"
   ]
  },
  {
   "cell_type": "markdown",
   "metadata": {},
   "source": [
    "How do you set the value of a single data cell? You may recall that you can *read* the value of a data cell with `loc` or `iloc`:"
   ]
  },
  {
   "cell_type": "code",
   "execution_count": 35,
   "metadata": {},
   "outputs": [
    {
     "data": {
      "text/plain": [
       "10021911"
      ]
     },
     "execution_count": 35,
     "metadata": {},
     "output_type": "execute_result"
    }
   ],
   "source": [
    "customers.iloc[468]['Customer Number']"
   ]
  },
  {
   "cell_type": "markdown",
   "metadata": {},
   "source": [
    "But if you try to set the value of that cell, Pandas will give you an error. See the [docs](https://pandas.pydata.org/pandas-docs/stable/user_guide/indexing.html#why-does-assignment-fail-when-using-chained-indexing) for more details."
   ]
  },
  {
   "cell_type": "code",
   "execution_count": 36,
   "metadata": {},
   "outputs": [
    {
     "name": "stderr",
     "output_type": "stream",
     "text": [
      "/Users/fred/.pyenv/versions/anaconda3-2020.02/lib/python3.7/site-packages/ipykernel_launcher.py:1: SettingWithCopyWarning: \n",
      "A value is trying to be set on a copy of a slice from a DataFrame\n",
      "\n",
      "See the caveats in the documentation: https://pandas.pydata.org/pandas-docs/stable/user_guide/indexing.html#returning-a-view-versus-a-copy\n",
      "  \"\"\"Entry point for launching an IPython kernel.\n"
     ]
    }
   ],
   "source": [
    "customers.iloc[468]['Customer Number'] = 10021912"
   ]
  },
  {
   "cell_type": "code",
   "execution_count": 39,
   "metadata": {},
   "outputs": [],
   "source": [
    "customers.at[468, 'Customer Number'] = 10021912"
   ]
  },
  {
   "cell_type": "markdown",
   "metadata": {},
   "source": [
    "The way to set a particular value is to use the `at` syntax. There are other ways as well, but for simplicity it is recommended to use `at` for setting a single value. ([docs](https://pandas.pydata.org/pandas-docs/stable/reference/api/pandas.DataFrame.at.html))"
   ]
  },
  {
   "cell_type": "code",
   "execution_count": 41,
   "metadata": {},
   "outputs": [
    {
     "data": {
      "text/html": [
       "<div>\n",
       "<style scoped>\n",
       "    .dataframe tbody tr th:only-of-type {\n",
       "        vertical-align: middle;\n",
       "    }\n",
       "\n",
       "    .dataframe tbody tr th {\n",
       "        vertical-align: top;\n",
       "    }\n",
       "\n",
       "    .dataframe thead th {\n",
       "        text-align: right;\n",
       "    }\n",
       "</style>\n",
       "<table border=\"1\" class=\"dataframe\">\n",
       "  <thead>\n",
       "    <tr style=\"text-align: right;\">\n",
       "      <th></th>\n",
       "      <th>Customer</th>\n",
       "      <th>Customer Number</th>\n",
       "      <th>City Code</th>\n",
       "    </tr>\n",
       "  </thead>\n",
       "  <tbody>\n",
       "    <tr>\n",
       "      <th>467</th>\n",
       "      <td>PING</td>\n",
       "      <td>10021911</td>\n",
       "      <td>64</td>\n",
       "    </tr>\n",
       "    <tr>\n",
       "      <th>468</th>\n",
       "      <td>Ping</td>\n",
       "      <td>10021912</td>\n",
       "      <td>65</td>\n",
       "    </tr>\n",
       "  </tbody>\n",
       "</table>\n",
       "</div>"
      ],
      "text/plain": [
       "    Customer  Customer Number  City Code\n",
       "467     PING         10021911         64\n",
       "468     Ping         10021912         65"
      ]
     },
     "execution_count": 41,
     "metadata": {},
     "output_type": "execute_result"
    }
   ],
   "source": [
    "customers[ (customers['Customer Number'] == 10021911) | (customers['Customer Number'] == 10021912) ]"
   ]
  },
  {
   "cell_type": "code",
   "execution_count": 42,
   "metadata": {},
   "outputs": [
    {
     "data": {
      "text/plain": [
       "10024034    1\n",
       "10006846    1\n",
       "10025287    1\n",
       "Name: Customer Number, dtype: int64"
      ]
     },
     "execution_count": 42,
     "metadata": {},
     "output_type": "execute_result"
    }
   ],
   "source": [
    "customers['Customer Number'].value_counts(dropna=False).head(3)"
   ]
  },
  {
   "cell_type": "markdown",
   "metadata": {},
   "source": [
    "## Nulls\n",
    "\n",
    "Check for nulls and missing values in all the dataframes. If you are filling missing values, state your reasoning for dropping and/or imputing data."
   ]
  },
  {
   "cell_type": "code",
   "execution_count": null,
   "metadata": {},
   "outputs": [],
   "source": []
  },
  {
   "cell_type": "markdown",
   "metadata": {},
   "source": [
    "For the `cities` dataframe, it's just a Description that is null, so we'll leave it alone as it's not likely we'll need that piece of data."
   ]
  },
  {
   "cell_type": "code",
   "execution_count": null,
   "metadata": {},
   "outputs": [],
   "source": []
  },
  {
   "cell_type": "markdown",
   "metadata": {},
   "source": [
    "As for Sales Reps, it looks like we don't have a 2nd or 3rd sales rep in certain territories, so that's fine."
   ]
  },
  {
   "cell_type": "code",
   "execution_count": null,
   "metadata": {},
   "outputs": [],
   "source": []
  },
  {
   "cell_type": "markdown",
   "metadata": {},
   "source": [
    "## Data Types\n",
    "\n",
    "Review all the dataframes and convert the data types if necessary, according to the rules in the following table:\n",
    "\n",
    "| Kind of Data | Data Type |\n",
    "| :--- | :--- |\n",
    "| Primary Key or Foreign Key | `int64` |\n",
    "| Currency | `float64` |\n",
    "| Text | `object` (string) |\n",
    "| Discrete values | `int64` |\n",
    "| Dates | `datetime64[ns]` (Timestamp object) |"
   ]
  },
  {
   "cell_type": "code",
   "execution_count": null,
   "metadata": {},
   "outputs": [],
   "source": []
  },
  {
   "cell_type": "markdown",
   "metadata": {},
   "source": [
    "In general the data types look good as-is with the exception of:\n",
    "\n",
    "1. The datetime fields in the `sales` dataframe"
   ]
  },
  {
   "cell_type": "code",
   "execution_count": null,
   "metadata": {},
   "outputs": [],
   "source": []
  },
  {
   "cell_type": "markdown",
   "metadata": {},
   "source": [
    "2. The `Sales Qty` field in `sales` should be an `int` as we can't have fractional quantities. We can use the [`astype` method](https://pandas.pydata.org/pandas-docs/stable/reference/api/pandas.DataFrame.astype.html) to do this:"
   ]
  },
  {
   "cell_type": "code",
   "execution_count": null,
   "metadata": {},
   "outputs": [],
   "source": []
  },
  {
   "cell_type": "markdown",
   "metadata": {},
   "source": [
    "Let's do a final check on the `sales` dataframe:"
   ]
  },
  {
   "cell_type": "code",
   "execution_count": null,
   "metadata": {},
   "outputs": [],
   "source": []
  },
  {
   "cell_type": "markdown",
   "metadata": {},
   "source": [
    "## Join\n",
    "\n",
    "Join all your tables together and store the joined result into a dataframe named `cs`. You'll need this for the Reporting and Visualization section below. \n",
    "\n",
    "Use the data dictionary for guidance.\n",
    "\n",
    "Make sure the shape of the joined table makes sense!"
   ]
  },
  {
   "cell_type": "code",
   "execution_count": null,
   "metadata": {},
   "outputs": [],
   "source": []
  },
  {
   "cell_type": "code",
   "execution_count": null,
   "metadata": {
    "scrolled": false
   },
   "outputs": [],
   "source": []
  },
  {
   "cell_type": "markdown",
   "metadata": {},
   "source": [
    "It turns out we don't need a bunch of columns, so let's drop 'em so things run faster. In real life you'd only know this after a few iterations, and it would have made things faster to drop them before the join."
   ]
  },
  {
   "cell_type": "code",
   "execution_count": null,
   "metadata": {},
   "outputs": [],
   "source": []
  },
  {
   "cell_type": "code",
   "execution_count": null,
   "metadata": {
    "scrolled": true
   },
   "outputs": [],
   "source": []
  },
  {
   "cell_type": "markdown",
   "metadata": {},
   "source": [
    "# Analysis\n",
    "\n",
    "* Create a new column, `MarginPct`, which is the `Margin` (`Sales` minus `Cost`), divided by `Sales`. Store this value as a float (percentage)."
   ]
  },
  {
   "cell_type": "code",
   "execution_count": null,
   "metadata": {
    "scrolled": false
   },
   "outputs": [],
   "source": []
  },
  {
   "cell_type": "code",
   "execution_count": null,
   "metadata": {},
   "outputs": [],
   "source": []
  },
  {
   "cell_type": "markdown",
   "metadata": {},
   "source": [
    "# Reporting and Visualization\n",
    "\n",
    "Create charts or reports according to Joanna's expectations.\n",
    "\n",
    "Use your best judgement to create visualizations or reports to best answer the questions. Ask yourself questions such as:\n",
    "\n",
    "* Is the data I'm using categorical or continuous?\n",
    "* Am I looking at timeseries data?\n",
    "* Am I representing a part-of-a-whole relationship?\n",
    "* Do I have many data points? If so, could I report or chart a subset of that data?\n",
    "\n",
    "<!--\n",
    "There's no right or wrong answer to these questions. As you solve them, focus on this progression:\n",
    "\n",
    "* First, create a pandas report with a dataframe or list of values that attempts to answer Joanna's questions\n",
    "* If you get that done, try charting it using a pandas charting method, like `.plot()`\n",
    "* If you get that done, look at how you might make your chart *more information dense*\n",
    "  * Increase chart ink area\n",
    "  * Reduce visual clutter\n",
    "  * Use color to convey meaning\n",
    "  * Increase information density with shape, size, color\n",
    "  * Use callouts to highlight anomalies in your data or points of interest\n",
    "* If you get that done, look at graduating from the [pandas plotting methods](https://pandas.pydata.org/pandas-docs/stable/generated/pandas.DataFrame.plot.html) to [matplotlib](https://matplotlib.org/), which is the backend for pandas plotting. This will allow you more control over your plots but the learning curve is fairly steep. Hang in there!\n",
    "-->"
   ]
  },
  {
   "cell_type": "markdown",
   "metadata": {},
   "source": [
    "## 1. Gross Sales by Product Type (Top 10)"
   ]
  },
  {
   "cell_type": "code",
   "execution_count": null,
   "metadata": {},
   "outputs": [],
   "source": []
  },
  {
   "cell_type": "markdown",
   "metadata": {},
   "source": [
    "## 2. Average Margin (%) by Product Group"
   ]
  },
  {
   "cell_type": "code",
   "execution_count": null,
   "metadata": {},
   "outputs": [],
   "source": []
  },
  {
   "cell_type": "markdown",
   "metadata": {},
   "source": [
    "## 3. Top 10 Sales Reps and their Total Sales and Sales Quantity\n",
    "\n",
    "(Formatted as a table)"
   ]
  },
  {
   "cell_type": "code",
   "execution_count": null,
   "metadata": {},
   "outputs": [],
   "source": []
  },
  {
   "cell_type": "markdown",
   "metadata": {},
   "source": [
    "## 4. Scatter Plot of Average Margin [%] vs Average Gross Sales"
   ]
  },
  {
   "cell_type": "code",
   "execution_count": null,
   "metadata": {
    "scrolled": true
   },
   "outputs": [],
   "source": []
  },
  {
   "cell_type": "code",
   "execution_count": null,
   "metadata": {
    "scrolled": true
   },
   "outputs": [],
   "source": []
  },
  {
   "cell_type": "code",
   "execution_count": null,
   "metadata": {},
   "outputs": [],
   "source": []
  },
  {
   "cell_type": "markdown",
   "metadata": {},
   "source": [
    "## 5. Total Sales by Month"
   ]
  },
  {
   "cell_type": "code",
   "execution_count": null,
   "metadata": {},
   "outputs": [],
   "source": []
  },
  {
   "cell_type": "code",
   "execution_count": null,
   "metadata": {
    "scrolled": true
   },
   "outputs": [],
   "source": []
  },
  {
   "cell_type": "code",
   "execution_count": null,
   "metadata": {
    "scrolled": true
   },
   "outputs": [],
   "source": []
  },
  {
   "cell_type": "markdown",
   "metadata": {},
   "source": [
    "## 6. Total Sales by Month, Year over Year"
   ]
  },
  {
   "cell_type": "code",
   "execution_count": null,
   "metadata": {
    "scrolled": false
   },
   "outputs": [],
   "source": []
  },
  {
   "cell_type": "code",
   "execution_count": null,
   "metadata": {},
   "outputs": [],
   "source": []
  },
  {
   "cell_type": "code",
   "execution_count": null,
   "metadata": {},
   "outputs": [],
   "source": []
  },
  {
   "cell_type": "code",
   "execution_count": null,
   "metadata": {},
   "outputs": [],
   "source": []
  },
  {
   "cell_type": "code",
   "execution_count": null,
   "metadata": {},
   "outputs": [],
   "source": []
  }
 ],
 "metadata": {
  "kernelspec": {
   "display_name": "Python 3",
   "language": "python",
   "name": "python3"
  },
  "language_info": {
   "codemirror_mode": {
    "name": "ipython",
    "version": 3
   },
   "file_extension": ".py",
   "mimetype": "text/x-python",
   "name": "python",
   "nbconvert_exporter": "python",
   "pygments_lexer": "ipython3",
   "version": "3.7.6"
  }
 },
 "nbformat": 4,
 "nbformat_minor": 2
}
